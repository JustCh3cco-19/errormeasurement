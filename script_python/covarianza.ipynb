{
 "cells": [
  {
   "cell_type": "code",
   "execution_count": 8,
   "id": "b3980442",
   "metadata": {},
   "outputs": [],
   "source": [
    "import numpy as np\n",
    "from sympy import *\n",
    "from math import sqrt"
   ]
  },
  {
   "attachments": {},
   "cell_type": "markdown",
   "id": "7ea06445",
   "metadata": {},
   "source": [
    "### Matrice di covarianza"
   ]
  },
  {
   "cell_type": "code",
   "execution_count": 9,
   "id": "781b1f45",
   "metadata": {},
   "outputs": [
    {
     "data": {
      "text/plain": [
       "25"
      ]
     },
     "execution_count": 9,
     "metadata": {},
     "output_type": "execute_result"
    }
   ],
   "source": [
    "# DA DEV ==> VAR\n",
    "d= \n",
    "d**2"
   ]
  },
  {
   "cell_type": "code",
   "execution_count": 10,
   "id": "516e7262",
   "metadata": {},
   "outputs": [
    {
     "data": {
      "text/plain": [
       "array([[ 0.09 , -0.015,  0.   ],\n",
       "       [-0.015,  0.01 ,  0.   ],\n",
       "       [ 0.   ,  0.   ,  0.   ]])"
      ]
     },
     "execution_count": 10,
     "metadata": {},
     "output_type": "execute_result"
    }
   ],
   "source": [
    "S=np.array([  [0.09,-0.015,0.],    #RIEMPIRE SOLO A DX DELLA DIAGONALE \n",
    "              [0.,0.01,0.],    #SULLA DIAGONALE LE VARIANZE\n",
    "              [0.,0.,0.]\n",
    "           ])\n",
    "\n",
    "for i in range(len(S)):\n",
    "    for j in range(len(S)):\n",
    "        S[j,i]=S[i,j]\n",
    "S"
   ]
  },
  {
   "attachments": {},
   "cell_type": "markdown",
   "id": "4c9784e2",
   "metadata": {},
   "source": [
    "### Funzione"
   ]
  },
  {
   "cell_type": "code",
   "execution_count": 11,
   "id": "268d7e52",
   "metadata": {},
   "outputs": [],
   "source": [
    "x,y,z = symbols('x y z')\n",
    "diz = {0:x, 1:y, 2:z}\n",
    "f =  3*x**2 +x*y -7*y**2       #espressione funzione 1\n",
    "g =  y                   #espressione funzione 2"
   ]
  },
  {
   "cell_type": "code",
   "execution_count": 12,
   "id": "be000198",
   "metadata": {},
   "outputs": [
    {
     "name": "stdout",
     "output_type": "stream",
     "text": [
      "covarianza =  -1.50650000000000\n"
     ]
    }
   ],
   "source": [
    "cov=0\n",
    "for i in diz:\n",
    "    fi = f.diff(diz[i])\n",
    "    for j in diz:\n",
    "        gj = g.diff(diz[j])\n",
    "        a = fi.subs([(x,10.5),(y,4.3),(z,0)]).evalf() * gj.subs([(x,10.5),(y,4.3),(z,0)]).evalf() * S[i,j]\n",
    "        cov+=a\n",
    "print('covarianza = ',cov)"
   ]
  }
 ],
 "metadata": {
  "kernelspec": {
   "display_name": "Python 3 (ipykernel)",
   "language": "python",
   "name": "python3"
  },
  "language_info": {
   "codemirror_mode": {
    "name": "ipython",
    "version": 3
   },
   "file_extension": ".py",
   "mimetype": "text/x-python",
   "name": "python",
   "nbconvert_exporter": "python",
   "pygments_lexer": "ipython3",
   "version": "3.11.2"
  }
 },
 "nbformat": 4,
 "nbformat_minor": 5
}
