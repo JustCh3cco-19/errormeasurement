{
 "cells": [
  {
   "cell_type": "code",
   "execution_count": 1,
   "id": "f21205c2",
   "metadata": {},
   "outputs": [],
   "source": [
    "import numpy as np\n",
    "from sympy import *"
   ]
  },
  {
   "attachments": {},
   "cell_type": "markdown",
   "id": "bd2a4204",
   "metadata": {},
   "source": [
    "### Matrice di covarianza"
   ]
  },
  {
   "cell_type": "code",
   "execution_count": 2,
   "id": "070ca3f8",
   "metadata": {},
   "outputs": [
    {
     "data": {
      "text/plain": [
       "0.09"
      ]
     },
     "execution_count": 2,
     "metadata": {},
     "output_type": "execute_result"
    }
   ],
   "source": [
    "# DA DEV ==> VAR\n",
    "d=0.3\n",
    "d**2"
   ]
  },
  {
   "cell_type": "code",
   "execution_count": 3,
   "id": "e10611cf",
   "metadata": {},
   "outputs": [
    {
     "data": {
      "text/plain": [
       "array([[ 0.09 , -0.015,  0.   ,  0.   ,  0.   ],\n",
       "       [-0.015,  0.01 ,  0.   ,  0.   ,  0.   ],\n",
       "       [ 0.   ,  0.   ,  0.   ,  0.   ,  0.   ],\n",
       "       [ 0.   ,  0.   ,  0.   ,  0.   ,  0.   ],\n",
       "       [ 0.   ,  0.   ,  0.   ,  0.   ,  0.   ]])"
      ]
     },
     "execution_count": 3,
     "metadata": {},
     "output_type": "execute_result"
    }
   ],
   "source": [
    "S=np.array([  [0.09,-0.5*0.3*0.1,0.,0.,0.],    #RIEMPIRE SOLO A DX DELLA DIAGONALE \n",
    "              [0.,0.01,0.0,0.,0.],    #SULLA DIAGONALE LE VARIANZE\n",
    "              [0.,0.,0.,0.,0.],\n",
    "              [0.,0.,0.,0.,0.],\n",
    "              [0.,0.,0.,0.,0.]\n",
    "           ])\n",
    "\n",
    "for i in range(len(S)):\n",
    "    for j in range(len(S)):\n",
    "        S[j,i]=S[i,j]\n",
    "S"
   ]
  },
  {
   "attachments": {},
   "cell_type": "markdown",
   "id": "27675a6e",
   "metadata": {},
   "source": [
    "### Funzione"
   ]
  },
  {
   "cell_type": "code",
   "execution_count": 4,
   "id": "c5b0863a",
   "metadata": {},
   "outputs": [],
   "source": [
    "a,b,c,d, e = symbols('a b c d e')\n",
    "diz = {0:a, 1:b, 2:c, 3:d, 4:e}\n",
    "f = 3*a**2 +a*b -7*b**2        #espressione funzione"
   ]
  },
  {
   "cell_type": "code",
   "execution_count": 5,
   "id": "55b88563",
   "metadata": {},
   "outputs": [
    {
     "name": "stdout",
     "output_type": "stream",
     "text": [
      "Varianza =  532.681300000000\n",
      "Deviazione standard =  23.0798895144669\n"
     ]
    }
   ],
   "source": [
    "var=0\n",
    "for i in diz:\n",
    "    fi = f.diff(diz[i])\n",
    "    for j in diz:\n",
    "        fj = f.diff(diz[j])\n",
    "        x = fi.subs([(a,10.5),(b,4.3),(c,0),(d,0),(e,0)]).evalf() * fj.subs([(a,10.5),(b,4.3),(c,0),(d,0),(e,0)]).evalf() * S[i,j]\n",
    "        var+=x\n",
    "\n",
    "dev = var**0.5\n",
    "\n",
    "print('Varianza = ',var)\n",
    "print ('Deviazione standard = ',dev)"
   ]
  }
 ],
 "metadata": {
  "kernelspec": {
   "display_name": "Python 3 (ipykernel)",
   "language": "python",
   "name": "python3"
  },
  "language_info": {
   "codemirror_mode": {
    "name": "ipython",
    "version": 3
   },
   "file_extension": ".py",
   "mimetype": "text/x-python",
   "name": "python",
   "nbconvert_exporter": "python",
   "pygments_lexer": "ipython3",
   "version": "3.11.2"
  }
 },
 "nbformat": 4,
 "nbformat_minor": 5
}
